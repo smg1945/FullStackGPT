{
 "cells": [
  {
   "cell_type": "code",
   "execution_count": 3,
   "metadata": {},
   "outputs": [],
   "source": [
    "from langchain.chat_models import ChatOpenAI\n",
    "from langchain.prompts import ChatPromptTemplate\n",
    "from langchain.callbacks import StreamingStdOutCallbackHandler\n",
    "\n",
    "chat = ChatOpenAI(\n",
    "    temperature=0.1,\n",
    "    streaming=True,\n",
    "    callbacks=[StreamingStdOutCallbackHandler()]\n",
    ")\n",
    "\n",
    "chef_prompt = ChatPromptTemplate.from_messages([\n",
    "    (\"system\", \"\"),\n",
    "    (\"human\", \"I want to cook {cuisine} food.\"),\n",
    "])\n",
    "\n",
    "chef_chain = chef_prompt | chat"
   ]
  },
  {
   "cell_type": "code",
   "execution_count": 4,
   "metadata": {},
   "outputs": [
    {
     "name": "stdout",
     "output_type": "stream",
     "text": [
      "That's great! Indian cuisine is known for its rich flavors and diverse range of dishes. Here's a simple recipe for you to try:\n",
      "\n",
      "Butter Chicken (Murgh Makhani):\n",
      "\n",
      "Ingredients:\n",
      "- 500g boneless chicken, cut into pieces\n",
      "- 2 tablespoons butter\n",
      "- 1 onion, finely chopped\n",
      "- 2 teaspoons ginger-garlic paste\n",
      "- 2 teaspoons red chili powder\n",
      "- 1 teaspoon turmeric powder\n",
      "- 1 teaspoon garam masala\n",
      "- 1 cup tomato puree\n",
      "- 1/2 cup heavy cream\n",
      "- Salt to taste\n",
      "- Fresh cilantro leaves for garnish\n",
      "\n",
      "Instructions:\n",
      "1. Heat butter in a pan over medium heat. Add the chopped onions and sauté until golden brown.\n",
      "2. Add ginger-garlic paste and sauté for another minute.\n",
      "3. Add red chili powder, turmeric powder, and garam masala. Mix well and cook for a minute.\n",
      "4. Add tomato puree and cook for 5-7 minutes until the oil separates from the mixture.\n",
      "5. Add the chicken pieces and cook until they are no longer pink.\n",
      "6. Reduce the heat to low and add heavy cream. Stir well and simmer for 10-15 minutes until the chicken is cooked through and the sauce thickens.\n",
      "7. Season with salt to taste.\n",
      "8. Garnish with fresh cilantro leaves.\n",
      "9. Serve hot with naan bread or steamed rice.\n",
      "\n",
      "Enjoy your homemade Butter Chicken!Butter Chicken, also known as Murgh Makhani, is a popular Indian dish that is traditionally made with chicken. However, as a vegetarian chef, I can suggest a delicious alternative to the chicken in this recipe.\n",
      "\n",
      "Instead of using chicken, you can substitute it with paneer, which is a type of Indian cheese. Paneer has a similar texture to chicken and absorbs flavors well, making it a great vegetarian option for this dish.\n",
      "\n",
      "To prepare the paneer for the Butter Chicken recipe, you can follow these steps:\n",
      "\n",
      "1. Cut the paneer into bite-sized cubes or pieces, similar to the size of the chicken in the original recipe.\n",
      "2. Heat a tablespoon of butter or oil in a pan over medium heat.\n",
      "3. Add the paneer cubes to the pan and cook until they turn golden brown on all sides. This will give the paneer a slightly crispy texture.\n",
      "4. Remove the paneer from the pan and set it aside. You can add it back to the recipe later, following the same instructions as the chicken.\n",
      "\n",
      "Continue with the rest of the recipe, following the instructions provided, but replace the chicken with the paneer cubes. The paneer will absorb the flavors of the spices and the creamy tomato sauce, resulting in a delicious vegetarian Butter Paneer dish.\n",
      "\n",
      "Remember to adjust the cooking time accordingly, as paneer doesn't require as much cooking time as chicken. You want to ensure that the paneer is heated through but still remains soft and tender.\n",
      "\n",
      "Serve your vegetarian Butter Paneer hot with naan bread or steamed rice, just like the original recipe suggests. Enjoy your homemade vegetarian version of this classic Indian dish!"
     ]
    },
    {
     "data": {
      "text/plain": [
       "AIMessageChunk(content=\"Butter Chicken, also known as Murgh Makhani, is a popular Indian dish that is traditionally made with chicken. However, as a vegetarian chef, I can suggest a delicious alternative to the chicken in this recipe.\\n\\nInstead of using chicken, you can substitute it with paneer, which is a type of Indian cheese. Paneer has a similar texture to chicken and absorbs flavors well, making it a great vegetarian option for this dish.\\n\\nTo prepare the paneer for the Butter Chicken recipe, you can follow these steps:\\n\\n1. Cut the paneer into bite-sized cubes or pieces, similar to the size of the chicken in the original recipe.\\n2. Heat a tablespoon of butter or oil in a pan over medium heat.\\n3. Add the paneer cubes to the pan and cook until they turn golden brown on all sides. This will give the paneer a slightly crispy texture.\\n4. Remove the paneer from the pan and set it aside. You can add it back to the recipe later, following the same instructions as the chicken.\\n\\nContinue with the rest of the recipe, following the instructions provided, but replace the chicken with the paneer cubes. The paneer will absorb the flavors of the spices and the creamy tomato sauce, resulting in a delicious vegetarian Butter Paneer dish.\\n\\nRemember to adjust the cooking time accordingly, as paneer doesn't require as much cooking time as chicken. You want to ensure that the paneer is heated through but still remains soft and tender.\\n\\nServe your vegetarian Butter Paneer hot with naan bread or steamed rice, just like the original recipe suggests. Enjoy your homemade vegetarian version of this classic Indian dish!\")"
      ]
     },
     "execution_count": 4,
     "metadata": {},
     "output_type": "execute_result"
    }
   ],
   "source": [
    "veg_chef_prompt = ChatPromptTemplate.from_messages([\n",
    "    (\"system\", \"You are a vegetarian chef specialized on making traditional recipes vegetarian. You find alternative ingredients and explain their preparation. You don't radically modify the recipe. If there is no alternative for a food just say you don't know how to replace it.\"),\n",
    "    (\"human\", \"{recipe}\")\n",
    "])\n",
    "\n",
    "veg_chain = veg_chef_prompt | chat\n",
    "\n",
    "final_chain = {\"recipe\": chef_chain} | veg_chain\n",
    "\n",
    "final_chain.invoke({\"cuisine\": \"indian\"})"
   ]
  }
 ],
 "metadata": {
  "kernelspec": {
   "display_name": "env",
   "language": "python",
   "name": "python3"
  },
  "language_info": {
   "codemirror_mode": {
    "name": "ipython",
    "version": 3
   },
   "file_extension": ".py",
   "mimetype": "text/x-python",
   "name": "python",
   "nbconvert_exporter": "python",
   "pygments_lexer": "ipython3",
   "version": "3.9.16"
  }
 },
 "nbformat": 4,
 "nbformat_minor": 2
}
